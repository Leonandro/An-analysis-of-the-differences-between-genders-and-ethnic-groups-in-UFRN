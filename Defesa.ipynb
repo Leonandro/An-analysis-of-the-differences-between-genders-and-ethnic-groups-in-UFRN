{
  "nbformat": 4,
  "nbformat_minor": 0,
  "metadata": {
    "colab": {
      "name": "Defesa.ipynb",
      "version": "0.3.2",
      "provenance": [],
      "collapsed_sections": [],
      "include_colab_link": true
    },
    "kernelspec": {
      "name": "python3",
      "display_name": "Python 3"
    }
  },
  "cells": [
    {
      "cell_type": "markdown",
      "metadata": {
        "id": "view-in-github",
        "colab_type": "text"
      },
      "source": [
        "<a href=\"https://colab.research.google.com/github/Leonandro/An-analysis-of-the-differences-between-genders-and-ethnic-groups-in-UFRN/blob/master/Defesa.ipynb\" target=\"_parent\"><img src=\"https://colab.research.google.com/assets/colab-badge.svg\" alt=\"Open In Colab\"/></a>"
      ]
    },
    {
      "cell_type": "markdown",
      "metadata": {
        "id": "GTpr6wKX2ykP",
        "colab_type": "text"
      },
      "source": [
        "##Note que de acordo com o gráfico abaixo, 75% das notas de Ana Alice estão entre 7.2 e 10 ou sejam um número altíssimo."
      ]
    },
    {
      "cell_type": "code",
      "metadata": {
        "id": "vSFGA5Q72wlr",
        "colab_type": "code",
        "outputId": "dd5c7b3b-dbfc-4442-956d-f129c9182020",
        "colab": {
          "base_uri": "https://localhost:8080/",
          "height": 298
        }
      },
      "source": [
        "}plt.boxplot(notas)\n",
        "plt.ylabel(\"notas\")\n",
        "#plt.axvline(1.8, c = 'r')\n",
        "plt.title(\"BoxPlot - Notas do bb\")"
      ],
      "execution_count": 0,
      "outputs": [
        {
          "output_type": "execute_result",
          "data": {
            "text/plain": [
              "Text(0.5, 1.0, 'BoxPlot - Notas do bb')"
            ]
          },
          "metadata": {
            "tags": []
          },
          "execution_count": 23
        },
        {
          "output_type": "display_data",
          "data": {
            "image/png": "[encoded data removed]",
            "text/plain": [
              "<Figure size 432x288 with 1 Axes>"
            ]
          },
          "metadata": {
            "tags": []
          }
        }
      ]
    },
    {
      "cell_type": "markdown",
      "metadata": {
        "id": "69pYCH5A4HdR",
        "colab_type": "text"
      },
      "source": [
        "## Analisando o mesmo gráfico na horizontal, pode-se notar que a nota da prova que foi encontrada ** 1.8 ** é tão destoante das demais notas, que não faz sentido, sequer considerá-la. coloquei uma linha vermelha para simbolizar essa nota (\"Outlier\" - Ponto desconsiderável por ser muito fora da curva). Também coloquei uma linha no 1º quartil (25% das notas) e um no teto (100 % das notas). Logo 75% das notas fircaram entre essas linhas, preta e verde."
      ]
    },
    {
      "cell_type": "code",
      "metadata": {
        "id": "aG_3Qj9A2hDJ",
        "colab_type": "code",
        "outputId": "f4565dd8-342d-4157-bf5a-49659fe66e91",
        "colab": {
          "base_uri": "https://localhost:8080/",
          "height": 312
        }
      },
      "source": [
        "sns.boxplot(notas)\n",
        "plt.xlabel(\"notas\")\n",
        "plt.xlim(left = 0, right = 15)\n",
        "plt.axvline(1.8, c = 'r', label = 'nota fora do gráfico')\n",
        "plt.title(\"BoxPlot - Notas do bb\")\n",
        "plt.axvline(7.2, c = 'black')\n",
        "plt.axvline(10, c = 'g')"
      ],
      "execution_count": 0,
      "outputs": [
        {
          "output_type": "execute_result",
          "data": {
            "text/plain": [
              "<matplotlib.lines.Line2D at 0x7f9c490656d8>"
            ]
          },
          "metadata": {
            "tags": []
          },
          "execution_count": 29
        },
        {
          "output_type": "display_data",
          "data": {
            "image/png": "[encoded data removed]",
            "text/plain": [
              "<Figure size 432x288 with 1 Axes>"
            ]
          },
          "metadata": {
            "tags": []
          }
        }
      ]
    },
    {
      "cell_type": "markdown",
      "metadata": {
        "id": "yjL6t5ov5mrU",
        "colab_type": "text"
      },
      "source": [
        "## Outro exemplo de gráfico mostrando que a nota vista hoje a noite não seria considerado para nenhum estudo de dados, por estar fora da distribuição padrão. \n",
        "\n",
        "**Obs, a nota citada é a linha preta**"
      ]
    },
    {
      "cell_type": "code",
      "metadata": {
        "id": "xOSfuh0RxFeb",
        "colab_type": "code",
        "outputId": "c4d08b0f-9963-4c76-d433-e26deadbe08d",
        "colab": {
          "base_uri": "https://localhost:8080/",
          "height": 281
        }
      },
      "source": [
        "import matplotlib.pyplot as plt\n",
        "import pandas as pd\n",
        "import seaborn as sns\n",
        "import numpy as np\n",
        "\n",
        "notas = [8, 7.5, 8, 7.6, 8.2, 8, 8.6, 8.4, 9.3, 9.4, 7.2, 5, 8.6, 7.3, 8.9, \n",
        "         8.6, 6.6, 7.5, 4.3, 6.6, 9.6, 6.4, 5.7, 8, 8.2, 9.5, 6, 5, \n",
        "         9.2, 6, 7.1, 8.1, 7, 10, 8, 9, 8, 9, 6.9, 6.9, 9.2, 9.8, 9.4, \n",
        "         8, 9.5, 7, 7.3, 7.3,  8.5, 8.7, 9.1, 7.3, 9.1]\n",
        "\n",
        "sns.kdeplot(notas)\n",
        "plt.axvline(np.mean(notas), c = 'r')\n",
        "plt.title(\"BoxPlot - Notas do bb\")\n",
        "plt.axvline(1.8, c = 'black')\n",
        "plt.show()\n"
      ],
      "execution_count": 0,
      "outputs": [
        {
          "output_type": "display_data",
          "data": {
            "image/png": "[encoded data removed]",
            "text/plain": [
              "<Figure size 432x288 with 1 Axes>"
            ]
          },
          "metadata": {
            "tags": []
          }
        }
      ]
    },
    {
      "cell_type": "markdown",
      "metadata": {
        "id": "3kEQ5Xyw5zRK",
        "colab_type": "text"
      },
      "source": [
        "## Só para finalizar, mostro que arredondando a média de todas as notas no curso até hoje é 8, ou seja, uma média excelente, digna de apenas 8.78% alunos nos curso de TI, por exemplo.\n",
        "\n",
        "**Obs 1 - arredondei pq dava um número muito quebrado**\n",
        "**| Obs 2 - Não comparei com o curso de Fisioterapia pois não tenho acesso aos dados dos demais alunos**"
      ]
    },
    {
      "cell_type": "code",
      "metadata": {
        "id": "qJDdmBXUyzOA",
        "colab_type": "code",
        "outputId": "16af6b60-e802-4faf-b954-c46c8bc6f041",
        "colab": {
          "base_uri": "https://localhost:8080/",
          "height": 34
        }
      },
      "source": [
        "round(np.mean(notas))"
      ],
      "execution_count": 0,
      "outputs": [
        {
          "output_type": "execute_result",
          "data": {
            "text/plain": [
              "8.0"
            ]
          },
          "metadata": {
            "tags": []
          },
          "execution_count": 34
        }
      ]
    },
    {
      "cell_type": "code",
      "metadata": {
        "id": "xiB29Q_X51k7",
        "colab_type": "code",
        "colab": {}
      },
      "source": [
        ""
      ],
      "execution_count": 0,
      "outputs": []
    }
  ]
}